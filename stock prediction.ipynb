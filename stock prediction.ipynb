{
 "cells": [
  {
   "cell_type": "code",
   "execution_count": 89,
   "id": "64fd31f8-0fab-4f97-aa15-c5b23de08afb",
   "metadata": {},
   "outputs": [],
   "source": [
    "import pandas as pd\n",
    "import numpy as np\n",
    "from sklearn import metrics\n",
    "%matplotlib inline\n",
    "import matplotlib.pyplot as plt"
   ]
  },
  {
   "cell_type": "code",
   "execution_count": 90,
   "id": "171d305c-4656-46b6-82df-db1e937d29d3",
   "metadata": {},
   "outputs": [],
   "source": [
    "dataset= pd.read_csv(\"C:/Users/JAI KALYAN/Desktop/Tata steel.csv\")"
   ]
  },
  {
   "cell_type": "code",
   "execution_count": 91,
   "id": "d4434b06-e3d1-43c5-9be4-9d0d38fb58ec",
   "metadata": {},
   "outputs": [
    {
     "data": {
      "text/html": [
       "<div>\n",
       "<style scoped>\n",
       "    .dataframe tbody tr th:only-of-type {\n",
       "        vertical-align: middle;\n",
       "    }\n",
       "\n",
       "    .dataframe tbody tr th {\n",
       "        vertical-align: top;\n",
       "    }\n",
       "\n",
       "    .dataframe thead th {\n",
       "        text-align: right;\n",
       "    }\n",
       "</style>\n",
       "<table border=\"1\" class=\"dataframe\">\n",
       "  <thead>\n",
       "    <tr style=\"text-align: right;\">\n",
       "      <th></th>\n",
       "      <th>Date</th>\n",
       "      <th>Open Price</th>\n",
       "      <th>High Price</th>\n",
       "      <th>Low Price</th>\n",
       "      <th>Close Price</th>\n",
       "      <th>WAP</th>\n",
       "      <th>No.of Shares</th>\n",
       "      <th>No. of Trades</th>\n",
       "      <th>Total Turnover (Rs.)</th>\n",
       "      <th>Deliverable Quantity</th>\n",
       "      <th>% Deli. Qty to Traded Qty</th>\n",
       "      <th>Spread High-Low</th>\n",
       "      <th>Spread Close-Open</th>\n",
       "    </tr>\n",
       "  </thead>\n",
       "  <tbody>\n",
       "    <tr>\n",
       "      <th>0</th>\n",
       "      <td>03-Jul-15</td>\n",
       "      <td>308.00</td>\n",
       "      <td>308.00</td>\n",
       "      <td>299.75</td>\n",
       "      <td>300.95</td>\n",
       "      <td>302.708180</td>\n",
       "      <td>499554</td>\n",
       "      <td>6430</td>\n",
       "      <td>151219082</td>\n",
       "      <td>118810.0</td>\n",
       "      <td>23.78</td>\n",
       "      <td>8.25</td>\n",
       "      <td>-7.05</td>\n",
       "    </tr>\n",
       "    <tr>\n",
       "      <th>1</th>\n",
       "      <td>06-Jul-15</td>\n",
       "      <td>294.90</td>\n",
       "      <td>299.60</td>\n",
       "      <td>292.30</td>\n",
       "      <td>298.75</td>\n",
       "      <td>295.646338</td>\n",
       "      <td>663354</td>\n",
       "      <td>9184</td>\n",
       "      <td>196118181</td>\n",
       "      <td>117663.0</td>\n",
       "      <td>17.74</td>\n",
       "      <td>7.30</td>\n",
       "      <td>3.85</td>\n",
       "    </tr>\n",
       "    <tr>\n",
       "      <th>2</th>\n",
       "      <td>07-Jul-15</td>\n",
       "      <td>300.75</td>\n",
       "      <td>303.25</td>\n",
       "      <td>296.00</td>\n",
       "      <td>297.45</td>\n",
       "      <td>299.477691</td>\n",
       "      <td>877207</td>\n",
       "      <td>8581</td>\n",
       "      <td>262703927</td>\n",
       "      <td>211277.0</td>\n",
       "      <td>24.09</td>\n",
       "      <td>7.25</td>\n",
       "      <td>-3.30</td>\n",
       "    </tr>\n",
       "    <tr>\n",
       "      <th>3</th>\n",
       "      <td>08-Jul-15</td>\n",
       "      <td>293.80</td>\n",
       "      <td>294.00</td>\n",
       "      <td>282.00</td>\n",
       "      <td>283.40</td>\n",
       "      <td>286.875105</td>\n",
       "      <td>1446189</td>\n",
       "      <td>20272</td>\n",
       "      <td>414875621</td>\n",
       "      <td>563505.0</td>\n",
       "      <td>38.96</td>\n",
       "      <td>12.00</td>\n",
       "      <td>-10.40</td>\n",
       "    </tr>\n",
       "    <tr>\n",
       "      <th>4</th>\n",
       "      <td>09-Jul-15</td>\n",
       "      <td>285.20</td>\n",
       "      <td>287.25</td>\n",
       "      <td>279.60</td>\n",
       "      <td>280.55</td>\n",
       "      <td>282.860975</td>\n",
       "      <td>974983</td>\n",
       "      <td>13946</td>\n",
       "      <td>275784642</td>\n",
       "      <td>330248.0</td>\n",
       "      <td>33.87</td>\n",
       "      <td>7.65</td>\n",
       "      <td>-4.65</td>\n",
       "    </tr>\n",
       "  </tbody>\n",
       "</table>\n",
       "</div>"
      ],
      "text/plain": [
       "        Date  Open Price  High Price  Low Price  Close Price         WAP  \\\n",
       "0  03-Jul-15      308.00      308.00     299.75       300.95  302.708180   \n",
       "1  06-Jul-15      294.90      299.60     292.30       298.75  295.646338   \n",
       "2  07-Jul-15      300.75      303.25     296.00       297.45  299.477691   \n",
       "3  08-Jul-15      293.80      294.00     282.00       283.40  286.875105   \n",
       "4  09-Jul-15      285.20      287.25     279.60       280.55  282.860975   \n",
       "\n",
       "   No.of Shares  No. of Trades  Total Turnover (Rs.)  Deliverable Quantity  \\\n",
       "0        499554           6430             151219082              118810.0   \n",
       "1        663354           9184             196118181              117663.0   \n",
       "2        877207           8581             262703927              211277.0   \n",
       "3       1446189          20272             414875621              563505.0   \n",
       "4        974983          13946             275784642              330248.0   \n",
       "\n",
       "   % Deli. Qty to Traded Qty  Spread High-Low  Spread Close-Open  \n",
       "0                      23.78             8.25              -7.05  \n",
       "1                      17.74             7.30               3.85  \n",
       "2                      24.09             7.25              -3.30  \n",
       "3                      38.96            12.00             -10.40  \n",
       "4                      33.87             7.65              -4.65  "
      ]
     },
     "execution_count": 91,
     "metadata": {},
     "output_type": "execute_result"
    }
   ],
   "source": [
    "dataset.head()"
   ]
  },
  {
   "cell_type": "code",
   "execution_count": 92,
   "id": "f18d946c-a351-41b6-9010-3f554f6557d5",
   "metadata": {},
   "outputs": [
    {
     "data": {
      "text/plain": [
       "(1485, 13)"
      ]
     },
     "execution_count": 92,
     "metadata": {},
     "output_type": "execute_result"
    }
   ],
   "source": [
    "dataset.shape"
   ]
  },
  {
   "cell_type": "code",
   "execution_count": 93,
   "id": "8acd0642-ed8b-4791-b2a7-494cc160ddf0",
   "metadata": {},
   "outputs": [],
   "source": [
    "dataset.drop('Deliverable Quantity' , axis =1, inplace=True)"
   ]
  },
  {
   "cell_type": "code",
   "execution_count": 94,
   "id": "cd9fff7c-7444-4d76-8f9d-b6edce33cd8a",
   "metadata": {},
   "outputs": [],
   "source": [
    "dataset.drop('% Deli. Qty to Traded Qty' , axis =1, inplace=True)"
   ]
  },
  {
   "cell_type": "code",
   "execution_count": 95,
   "id": "aa351862-6ffa-4895-a9fb-c98590b0dcdc",
   "metadata": {},
   "outputs": [
    {
     "data": {
      "text/html": [
       "<div>\n",
       "<style scoped>\n",
       "    .dataframe tbody tr th:only-of-type {\n",
       "        vertical-align: middle;\n",
       "    }\n",
       "\n",
       "    .dataframe tbody tr th {\n",
       "        vertical-align: top;\n",
       "    }\n",
       "\n",
       "    .dataframe thead th {\n",
       "        text-align: right;\n",
       "    }\n",
       "</style>\n",
       "<table border=\"1\" class=\"dataframe\">\n",
       "  <thead>\n",
       "    <tr style=\"text-align: right;\">\n",
       "      <th></th>\n",
       "      <th>Date</th>\n",
       "      <th>Open Price</th>\n",
       "      <th>High Price</th>\n",
       "      <th>Low Price</th>\n",
       "      <th>Close Price</th>\n",
       "      <th>WAP</th>\n",
       "      <th>No.of Shares</th>\n",
       "      <th>No. of Trades</th>\n",
       "      <th>Total Turnover (Rs.)</th>\n",
       "      <th>Spread High-Low</th>\n",
       "      <th>Spread Close-Open</th>\n",
       "    </tr>\n",
       "  </thead>\n",
       "  <tbody>\n",
       "    <tr>\n",
       "      <th>0</th>\n",
       "      <td>03-Jul-15</td>\n",
       "      <td>308.00</td>\n",
       "      <td>308.00</td>\n",
       "      <td>299.75</td>\n",
       "      <td>300.95</td>\n",
       "      <td>302.708180</td>\n",
       "      <td>499554</td>\n",
       "      <td>6430</td>\n",
       "      <td>151219082</td>\n",
       "      <td>8.25</td>\n",
       "      <td>-7.05</td>\n",
       "    </tr>\n",
       "    <tr>\n",
       "      <th>1</th>\n",
       "      <td>06-Jul-15</td>\n",
       "      <td>294.90</td>\n",
       "      <td>299.60</td>\n",
       "      <td>292.30</td>\n",
       "      <td>298.75</td>\n",
       "      <td>295.646338</td>\n",
       "      <td>663354</td>\n",
       "      <td>9184</td>\n",
       "      <td>196118181</td>\n",
       "      <td>7.30</td>\n",
       "      <td>3.85</td>\n",
       "    </tr>\n",
       "    <tr>\n",
       "      <th>2</th>\n",
       "      <td>07-Jul-15</td>\n",
       "      <td>300.75</td>\n",
       "      <td>303.25</td>\n",
       "      <td>296.00</td>\n",
       "      <td>297.45</td>\n",
       "      <td>299.477691</td>\n",
       "      <td>877207</td>\n",
       "      <td>8581</td>\n",
       "      <td>262703927</td>\n",
       "      <td>7.25</td>\n",
       "      <td>-3.30</td>\n",
       "    </tr>\n",
       "    <tr>\n",
       "      <th>3</th>\n",
       "      <td>08-Jul-15</td>\n",
       "      <td>293.80</td>\n",
       "      <td>294.00</td>\n",
       "      <td>282.00</td>\n",
       "      <td>283.40</td>\n",
       "      <td>286.875105</td>\n",
       "      <td>1446189</td>\n",
       "      <td>20272</td>\n",
       "      <td>414875621</td>\n",
       "      <td>12.00</td>\n",
       "      <td>-10.40</td>\n",
       "    </tr>\n",
       "    <tr>\n",
       "      <th>4</th>\n",
       "      <td>09-Jul-15</td>\n",
       "      <td>285.20</td>\n",
       "      <td>287.25</td>\n",
       "      <td>279.60</td>\n",
       "      <td>280.55</td>\n",
       "      <td>282.860975</td>\n",
       "      <td>974983</td>\n",
       "      <td>13946</td>\n",
       "      <td>275784642</td>\n",
       "      <td>7.65</td>\n",
       "      <td>-4.65</td>\n",
       "    </tr>\n",
       "  </tbody>\n",
       "</table>\n",
       "</div>"
      ],
      "text/plain": [
       "        Date  Open Price  High Price  Low Price  Close Price         WAP  \\\n",
       "0  03-Jul-15      308.00      308.00     299.75       300.95  302.708180   \n",
       "1  06-Jul-15      294.90      299.60     292.30       298.75  295.646338   \n",
       "2  07-Jul-15      300.75      303.25     296.00       297.45  299.477691   \n",
       "3  08-Jul-15      293.80      294.00     282.00       283.40  286.875105   \n",
       "4  09-Jul-15      285.20      287.25     279.60       280.55  282.860975   \n",
       "\n",
       "   No.of Shares  No. of Trades  Total Turnover (Rs.)  Spread High-Low  \\\n",
       "0        499554           6430             151219082             8.25   \n",
       "1        663354           9184             196118181             7.30   \n",
       "2        877207           8581             262703927             7.25   \n",
       "3       1446189          20272             414875621            12.00   \n",
       "4        974983          13946             275784642             7.65   \n",
       "\n",
       "   Spread Close-Open  \n",
       "0              -7.05  \n",
       "1               3.85  \n",
       "2              -3.30  \n",
       "3             -10.40  \n",
       "4              -4.65  "
      ]
     },
     "execution_count": 95,
     "metadata": {},
     "output_type": "execute_result"
    }
   ],
   "source": [
    "dataset.head()"
   ]
  },
  {
   "cell_type": "code",
   "execution_count": 96,
   "id": "812b16ee-2a58-4643-8d2b-2847fe258523",
   "metadata": {},
   "outputs": [
    {
     "data": {
      "text/plain": [
       "Date                    0\n",
       "Open Price              0\n",
       "High Price              0\n",
       "Low Price               0\n",
       "Close Price             0\n",
       "WAP                     0\n",
       "No.of Shares            0\n",
       "No. of Trades           0\n",
       "Total Turnover (Rs.)    0\n",
       "Spread High-Low         0\n",
       "Spread Close-Open       0\n",
       "dtype: int64"
      ]
     },
     "execution_count": 96,
     "metadata": {},
     "output_type": "execute_result"
    }
   ],
   "source": [
    "dataset.isnull().sum()"
   ]
  },
  {
   "cell_type": "code",
   "execution_count": 97,
   "id": "43c09e93-4e25-440d-93a3-cc0d572a78cb",
   "metadata": {},
   "outputs": [
    {
     "data": {
      "text/plain": [
       "Date                    False\n",
       "Open Price              False\n",
       "High Price              False\n",
       "Low Price               False\n",
       "Close Price             False\n",
       "WAP                     False\n",
       "No.of Shares            False\n",
       "No. of Trades           False\n",
       "Total Turnover (Rs.)    False\n",
       "Spread High-Low         False\n",
       "Spread Close-Open       False\n",
       "dtype: bool"
      ]
     },
     "execution_count": 97,
     "metadata": {},
     "output_type": "execute_result"
    }
   ],
   "source": [
    "dataset.isna().any()"
   ]
  },
  {
   "cell_type": "code",
   "execution_count": 98,
   "id": "22fb805b-c114-48ab-bbbc-806b89a265d3",
   "metadata": {
    "scrolled": true
   },
   "outputs": [
    {
     "name": "stdout",
     "output_type": "stream",
     "text": [
      "<class 'pandas.core.frame.DataFrame'>\n",
      "RangeIndex: 1485 entries, 0 to 1484\n",
      "Data columns (total 11 columns):\n",
      " #   Column                Non-Null Count  Dtype  \n",
      "---  ------                --------------  -----  \n",
      " 0   Date                  1485 non-null   object \n",
      " 1   Open Price            1485 non-null   float64\n",
      " 2   High Price            1485 non-null   float64\n",
      " 3   Low Price             1485 non-null   float64\n",
      " 4   Close Price           1485 non-null   float64\n",
      " 5   WAP                   1485 non-null   float64\n",
      " 6   No.of Shares          1485 non-null   int64  \n",
      " 7   No. of Trades         1485 non-null   int64  \n",
      " 8   Total Turnover (Rs.)  1485 non-null   int64  \n",
      " 9   Spread High-Low       1485 non-null   float64\n",
      " 10  Spread Close-Open     1485 non-null   float64\n",
      "dtypes: float64(7), int64(3), object(1)\n",
      "memory usage: 127.7+ KB\n"
     ]
    }
   ],
   "source": [
    "dataset.info()"
   ]
  },
  {
   "cell_type": "code",
   "execution_count": 99,
   "id": "c0b38318-db33-4b64-85c8-d72cae4d58c5",
   "metadata": {},
   "outputs": [
    {
     "data": {
      "text/html": [
       "<div>\n",
       "<style scoped>\n",
       "    .dataframe tbody tr th:only-of-type {\n",
       "        vertical-align: middle;\n",
       "    }\n",
       "\n",
       "    .dataframe tbody tr th {\n",
       "        vertical-align: top;\n",
       "    }\n",
       "\n",
       "    .dataframe thead th {\n",
       "        text-align: right;\n",
       "    }\n",
       "</style>\n",
       "<table border=\"1\" class=\"dataframe\">\n",
       "  <thead>\n",
       "    <tr style=\"text-align: right;\">\n",
       "      <th></th>\n",
       "      <th>Open Price</th>\n",
       "      <th>High Price</th>\n",
       "      <th>Low Price</th>\n",
       "      <th>Close Price</th>\n",
       "      <th>WAP</th>\n",
       "      <th>No.of Shares</th>\n",
       "      <th>No. of Trades</th>\n",
       "      <th>Total Turnover (Rs.)</th>\n",
       "      <th>Spread High-Low</th>\n",
       "      <th>Spread Close-Open</th>\n",
       "    </tr>\n",
       "  </thead>\n",
       "  <tbody>\n",
       "    <tr>\n",
       "      <th>count</th>\n",
       "      <td>1485.000000</td>\n",
       "      <td>1485.000000</td>\n",
       "      <td>1485.000000</td>\n",
       "      <td>1485.000000</td>\n",
       "      <td>1485.000000</td>\n",
       "      <td>1.485000e+03</td>\n",
       "      <td>1485.000000</td>\n",
       "      <td>1.485000e+03</td>\n",
       "      <td>1485.000000</td>\n",
       "      <td>1485.000000</td>\n",
       "    </tr>\n",
       "    <tr>\n",
       "      <th>mean</th>\n",
       "      <td>486.573131</td>\n",
       "      <td>494.064949</td>\n",
       "      <td>478.727879</td>\n",
       "      <td>486.225926</td>\n",
       "      <td>486.568546</td>\n",
       "      <td>7.976508e+05</td>\n",
       "      <td>10493.148148</td>\n",
       "      <td>3.715847e+08</td>\n",
       "      <td>15.337071</td>\n",
       "      <td>-0.347205</td>\n",
       "    </tr>\n",
       "    <tr>\n",
       "      <th>std</th>\n",
       "      <td>187.045761</td>\n",
       "      <td>189.642821</td>\n",
       "      <td>184.183050</td>\n",
       "      <td>187.008913</td>\n",
       "      <td>187.008966</td>\n",
       "      <td>4.887324e+05</td>\n",
       "      <td>6684.557776</td>\n",
       "      <td>2.946512e+08</td>\n",
       "      <td>9.853676</td>\n",
       "      <td>10.852069</td>\n",
       "    </tr>\n",
       "    <tr>\n",
       "      <th>min</th>\n",
       "      <td>205.050000</td>\n",
       "      <td>206.250000</td>\n",
       "      <td>200.000000</td>\n",
       "      <td>201.350000</td>\n",
       "      <td>202.938799</td>\n",
       "      <td>5.497700e+04</td>\n",
       "      <td>1000.000000</td>\n",
       "      <td>2.522744e+07</td>\n",
       "      <td>1.800000</td>\n",
       "      <td>-56.900000</td>\n",
       "    </tr>\n",
       "    <tr>\n",
       "      <th>25%</th>\n",
       "      <td>355.650000</td>\n",
       "      <td>360.550000</td>\n",
       "      <td>346.700000</td>\n",
       "      <td>354.250000</td>\n",
       "      <td>354.529229</td>\n",
       "      <td>4.726870e+05</td>\n",
       "      <td>6231.000000</td>\n",
       "      <td>2.148535e+08</td>\n",
       "      <td>9.100000</td>\n",
       "      <td>-6.300000</td>\n",
       "    </tr>\n",
       "    <tr>\n",
       "      <th>50%</th>\n",
       "      <td>470.550000</td>\n",
       "      <td>477.000000</td>\n",
       "      <td>463.350000</td>\n",
       "      <td>469.550000</td>\n",
       "      <td>469.528425</td>\n",
       "      <td>6.804740e+05</td>\n",
       "      <td>8790.000000</td>\n",
       "      <td>2.911989e+08</td>\n",
       "      <td>12.750000</td>\n",
       "      <td>-0.500000</td>\n",
       "    </tr>\n",
       "    <tr>\n",
       "      <th>75%</th>\n",
       "      <td>581.000000</td>\n",
       "      <td>587.500000</td>\n",
       "      <td>572.100000</td>\n",
       "      <td>579.800000</td>\n",
       "      <td>580.223152</td>\n",
       "      <td>9.814850e+05</td>\n",
       "      <td>12930.000000</td>\n",
       "      <td>4.212425e+08</td>\n",
       "      <td>18.350000</td>\n",
       "      <td>4.950000</td>\n",
       "    </tr>\n",
       "    <tr>\n",
       "      <th>max</th>\n",
       "      <td>1231.000000</td>\n",
       "      <td>1246.800000</td>\n",
       "      <td>1200.000000</td>\n",
       "      <td>1233.900000</td>\n",
       "      <td>1215.986040</td>\n",
       "      <td>5.089559e+06</td>\n",
       "      <td>63054.000000</td>\n",
       "      <td>3.514542e+09</td>\n",
       "      <td>88.450000</td>\n",
       "      <td>53.350000</td>\n",
       "    </tr>\n",
       "  </tbody>\n",
       "</table>\n",
       "</div>"
      ],
      "text/plain": [
       "        Open Price   High Price    Low Price  Close Price          WAP  \\\n",
       "count  1485.000000  1485.000000  1485.000000  1485.000000  1485.000000   \n",
       "mean    486.573131   494.064949   478.727879   486.225926   486.568546   \n",
       "std     187.045761   189.642821   184.183050   187.008913   187.008966   \n",
       "min     205.050000   206.250000   200.000000   201.350000   202.938799   \n",
       "25%     355.650000   360.550000   346.700000   354.250000   354.529229   \n",
       "50%     470.550000   477.000000   463.350000   469.550000   469.528425   \n",
       "75%     581.000000   587.500000   572.100000   579.800000   580.223152   \n",
       "max    1231.000000  1246.800000  1200.000000  1233.900000  1215.986040   \n",
       "\n",
       "       No.of Shares  No. of Trades  Total Turnover (Rs.)  Spread High-Low  \\\n",
       "count  1.485000e+03    1485.000000          1.485000e+03      1485.000000   \n",
       "mean   7.976508e+05   10493.148148          3.715847e+08        15.337071   \n",
       "std    4.887324e+05    6684.557776          2.946512e+08         9.853676   \n",
       "min    5.497700e+04    1000.000000          2.522744e+07         1.800000   \n",
       "25%    4.726870e+05    6231.000000          2.148535e+08         9.100000   \n",
       "50%    6.804740e+05    8790.000000          2.911989e+08        12.750000   \n",
       "75%    9.814850e+05   12930.000000          4.212425e+08        18.350000   \n",
       "max    5.089559e+06   63054.000000          3.514542e+09        88.450000   \n",
       "\n",
       "       Spread Close-Open  \n",
       "count        1485.000000  \n",
       "mean           -0.347205  \n",
       "std            10.852069  \n",
       "min           -56.900000  \n",
       "25%            -6.300000  \n",
       "50%            -0.500000  \n",
       "75%             4.950000  \n",
       "max            53.350000  "
      ]
     },
     "execution_count": 99,
     "metadata": {},
     "output_type": "execute_result"
    }
   ],
   "source": [
    "dataset.describe()"
   ]
  },
  {
   "cell_type": "code",
   "execution_count": 100,
   "id": "542e717e-53e7-4b23-8e12-8386ab70a21f",
   "metadata": {},
   "outputs": [
    {
     "name": "stdout",
     "output_type": "stream",
     "text": [
      "1485\n"
     ]
    }
   ],
   "source": [
    "print(len(dataset))"
   ]
  },
  {
   "cell_type": "code",
   "execution_count": 101,
   "id": "82664c54-3cc9-4898-a79d-24eee3e0152b",
   "metadata": {},
   "outputs": [
    {
     "data": {
      "text/plain": [
       "<Axes: >"
      ]
     },
     "execution_count": 101,
     "metadata": {},
     "output_type": "execute_result"
    },
    {
     "data": {
      "image/png": "[encoded data removed]",
      "text/plain": [
       "<Figure size 1600x600 with 1 Axes>"
      ]
     },
     "metadata": {},
     "output_type": "display_data"
    }
   ],
   "source": [
    "dataset['Open Price'].plot(figsize=(16,6))"
   ]
  },
  {
   "cell_type": "code",
   "execution_count": 1,
   "id": "595e2726-b0eb-40d9-8de5-ad53b32da181",
   "metadata": {},
   "outputs": [
    {
     "ename": "NameError",
     "evalue": "name 'dataset' is not defined",
     "output_type": "error",
     "traceback": [
      "\u001b[1;31m---------------------------------------------------------------------------\u001b[0m",
      "\u001b[1;31mNameError\u001b[0m                                 Traceback (most recent call last)",
      "Cell \u001b[1;32mIn[1], line 1\u001b[0m\n\u001b[1;32m----> 1\u001b[0m \u001b[43mdataset\u001b[49m[\u001b[38;5;124m'\u001b[39m\u001b[38;5;124mClose Price\u001b[39m\u001b[38;5;124m'\u001b[39m]\u001b[38;5;241m.\u001b[39mplot(figsize\u001b[38;5;241m=\u001b[39m(\u001b[38;5;241m16\u001b[39m,\u001b[38;5;241m6\u001b[39m))\n",
      "\u001b[1;31mNameError\u001b[0m: name 'dataset' is not defined"
     ]
    }
   ],
   "source": [
    "dataset['Close Price'].plot(figsize=(16,6))"
   ]
  },
  {
   "cell_type": "code",
   "execution_count": 102,
   "id": "fae9e48b-4426-4c4f-8de3-22a7ea0e91d2",
   "metadata": {},
   "outputs": [],
   "source": [
    "x=dataset[['Open Price','High Price','Low Price','WAP','Total Turnover (Rs.)']]\n",
    "y=dataset['Close Price']"
   ]
  },
  {
   "cell_type": "code",
   "execution_count": 103,
   "id": "8f7db61d-1eea-40fd-8a9f-cbcf0fc670db",
   "metadata": {},
   "outputs": [],
   "source": [
    "from sklearn.model_selection import train_test_split\n",
    "x_train, x_test, y_train, y_test = train_test_split(x,y, random_state=0)"
   ]
  },
  {
   "cell_type": "code",
   "execution_count": 104,
   "id": "55530d41-3d49-4dc4-9040-8fb32f8ea7f3",
   "metadata": {},
   "outputs": [
    {
     "data": {
      "text/plain": [
       "(1113, 5)"
      ]
     },
     "execution_count": 104,
     "metadata": {},
     "output_type": "execute_result"
    }
   ],
   "source": [
    "x_train.shape"
   ]
  },
  {
   "cell_type": "code",
   "execution_count": 105,
   "id": "7bad02cb-f078-4afa-b6ac-3d6b76186a45",
   "metadata": {},
   "outputs": [
    {
     "data": {
      "text/plain": [
       "(372, 5)"
      ]
     },
     "execution_count": 105,
     "metadata": {},
     "output_type": "execute_result"
    }
   ],
   "source": [
    "x_test.shape"
   ]
  },
  {
   "cell_type": "code",
   "execution_count": 106,
   "id": "d61a0409-b756-4b9d-bc36-cd1541819ff8",
   "metadata": {},
   "outputs": [],
   "source": [
    "from sklearn.linear_model import LinearRegression\n",
    "from sklearn.metrics import confusion_matrix, accuracy_score\n",
    "regressor = LinearRegression()"
   ]
  },
  {
   "cell_type": "code",
   "execution_count": 107,
   "id": "bf34756d-3a5e-415d-aeb1-87e77cee69d7",
   "metadata": {},
   "outputs": [
    {
     "data": {
      "text/html": [
       "<style>#sk-container-id-3 {color: black;}#sk-container-id-3 pre{padding: 0;}#sk-container-id-3 div.sk-toggleable {background-color: white;}#sk-container-id-3 label.sk-toggleable__label {cursor: pointer;display: block;width: 100%;margin-bottom: 0;padding: 0.3em;box-sizing: border-box;text-align: center;}#sk-container-id-3 label.sk-toggleable__label-arrow:before {content: \"▸\";float: left;margin-right: 0.25em;color: #696969;}#sk-container-id-3 label.sk-toggleable__label-arrow:hover:before {color: black;}#sk-container-id-3 div.sk-estimator:hover label.sk-toggleable__label-arrow:before {color: black;}#sk-container-id-3 div.sk-toggleable__content {max-height: 0;max-width: 0;overflow: hidden;text-align: left;background-color: #f0f8ff;}#sk-container-id-3 div.sk-toggleable__content pre {margin: 0.2em;color: black;border-radius: 0.25em;background-color: #f0f8ff;}#sk-container-id-3 input.sk-toggleable__control:checked~div.sk-toggleable__content {max-height: 200px;max-width: 100%;overflow: auto;}#sk-container-id-3 input.sk-toggleable__control:checked~label.sk-toggleable__label-arrow:before {content: \"▾\";}#sk-container-id-3 div.sk-estimator input.sk-toggleable__control:checked~label.sk-toggleable__label {background-color: #d4ebff;}#sk-container-id-3 div.sk-label input.sk-toggleable__control:checked~label.sk-toggleable__label {background-color: #d4ebff;}#sk-container-id-3 input.sk-hidden--visually {border: 0;clip: rect(1px 1px 1px 1px);clip: rect(1px, 1px, 1px, 1px);height: 1px;margin: -1px;overflow: hidden;padding: 0;position: absolute;width: 1px;}#sk-container-id-3 div.sk-estimator {font-family: monospace;background-color: #f0f8ff;border: 1px dotted black;border-radius: 0.25em;box-sizing: border-box;margin-bottom: 0.5em;}#sk-container-id-3 div.sk-estimator:hover {background-color: #d4ebff;}#sk-container-id-3 div.sk-parallel-item::after {content: \"\";width: 100%;border-bottom: 1px solid gray;flex-grow: 1;}#sk-container-id-3 div.sk-label:hover label.sk-toggleable__label {background-color: #d4ebff;}#sk-container-id-3 div.sk-serial::before {content: \"\";position: absolute;border-left: 1px solid gray;box-sizing: border-box;top: 0;bottom: 0;left: 50%;z-index: 0;}#sk-container-id-3 div.sk-serial {display: flex;flex-direction: column;align-items: center;background-color: white;padding-right: 0.2em;padding-left: 0.2em;position: relative;}#sk-container-id-3 div.sk-item {position: relative;z-index: 1;}#sk-container-id-3 div.sk-parallel {display: flex;align-items: stretch;justify-content: center;background-color: white;position: relative;}#sk-container-id-3 div.sk-item::before, #sk-container-id-3 div.sk-parallel-item::before {content: \"\";position: absolute;border-left: 1px solid gray;box-sizing: border-box;top: 0;bottom: 0;left: 50%;z-index: -1;}#sk-container-id-3 div.sk-parallel-item {display: flex;flex-direction: column;z-index: 1;position: relative;background-color: white;}#sk-container-id-3 div.sk-parallel-item:first-child::after {align-self: flex-end;width: 50%;}#sk-container-id-3 div.sk-parallel-item:last-child::after {align-self: flex-start;width: 50%;}#sk-container-id-3 div.sk-parallel-item:only-child::after {width: 0;}#sk-container-id-3 div.sk-dashed-wrapped {border: 1px dashed gray;margin: 0 0.4em 0.5em 0.4em;box-sizing: border-box;padding-bottom: 0.4em;background-color: white;}#sk-container-id-3 div.sk-label label {font-family: monospace;font-weight: bold;display: inline-block;line-height: 1.2em;}#sk-container-id-3 div.sk-label-container {text-align: center;}#sk-container-id-3 div.sk-container {/* jupyter's `normalize.less` sets `[hidden] { display: none; }` but bootstrap.min.css set `[hidden] { display: none !important; }` so we also need the `!important` here to be able to override the default hidden behavior on the sphinx rendered scikit-learn.org. See: https://github.com/scikit-learn/scikit-learn/issues/21755 */display: inline-block !important;position: relative;}#sk-container-id-3 div.sk-text-repr-fallback {display: none;}</style><div id=\"sk-container-id-3\" class=\"sk-top-container\"><div class=\"sk-text-repr-fallback\"><pre>LinearRegression()</pre><b>In a Jupyter environment, please rerun this cell to show the HTML representation or trust the notebook. <br />On GitHub, the HTML representation is unable to render, please try loading this page with nbviewer.org.</b></div><div class=\"sk-container\" hidden><div class=\"sk-item\"><div class=\"sk-estimator sk-toggleable\"><input class=\"sk-toggleable__control sk-hidden--visually\" id=\"sk-estimator-id-3\" type=\"checkbox\" checked><label for=\"sk-estimator-id-3\" class=\"sk-toggleable__label sk-toggleable__label-arrow\">LinearRegression</label><div class=\"sk-toggleable__content\"><pre>LinearRegression()</pre></div></div></div></div></div>"
      ],
      "text/plain": [
       "LinearRegression()"
      ]
     },
     "execution_count": 107,
     "metadata": {},
     "output_type": "execute_result"
    }
   ],
   "source": [
    "regressor.fit(x_train, y_train)"
   ]
  },
  {
   "cell_type": "code",
   "execution_count": 108,
   "id": "7e9eb9f4-3aba-4d25-afe8-b149bcd6e9d0",
   "metadata": {},
   "outputs": [
    {
     "name": "stdout",
     "output_type": "stream",
     "text": [
      "[-4.12739110e-01  3.31693015e-01  2.50234840e-01  8.29371894e-01\n",
      "  1.28185584e-09]\n"
     ]
    }
   ],
   "source": [
    "coefficent = print(regressor.coef_) "
   ]
  },
  {
   "cell_type": "code",
   "execution_count": 109,
   "id": "7dd78c97-7685-45a8-816e-64efb07739a2",
   "metadata": {},
   "outputs": [
    {
     "name": "stdout",
     "output_type": "stream",
     "text": [
      "-0.6162104878318928\n"
     ]
    }
   ],
   "source": [
    "intercept = print(regressor.intercept_)"
   ]
  },
  {
   "cell_type": "code",
   "execution_count": 110,
   "id": "44776c52-b931-41de-9b48-5e68daa2b7f9",
   "metadata": {},
   "outputs": [],
   "source": [
    "predicted=regressor.predict(x_train)"
   ]
  },
  {
   "cell_type": "code",
   "execution_count": 111,
   "id": "7d7fd8a6-3a15-4745-a89d-669a951fb294",
   "metadata": {},
   "outputs": [
    {
     "name": "stdout",
     "output_type": "stream",
     "text": [
      "      Open Price  High Price  Low Price         WAP  Total Turnover (Rs.)\n",
      "898       468.50      476.75     464.60  471.256474             418763215\n",
      "459       436.00      457.35     436.00  450.948439             669558772\n",
      "618       732.50      735.70     721.20  730.599850             171071416\n",
      "615       724.00      728.80     717.55  724.125545             160617563\n",
      "1355      600.00      623.90     596.05  608.946287             253391684\n",
      "...          ...         ...        ...         ...                   ...\n",
      "763       553.90      564.50     543.40  553.838289             273243320\n",
      "835       576.20      583.50     574.45  580.455004             164451029\n",
      "1216      335.50      343.95     329.00  337.348913             249764364\n",
      "559       664.90      693.90     664.05  685.131819             431524110\n",
      "684       591.35      603.90     591.35  599.024277             366907761\n",
      "\n",
      "[1113 rows x 5 columns]\n"
     ]
    }
   ],
   "source": [
    "print(x_train)"
   ]
  },
  {
   "cell_type": "code",
   "execution_count": 112,
   "id": "3d9fc20a-de8a-4011-ac8b-f8d704824984",
   "metadata": {},
   "outputs": [],
   "source": [
    "predicted=regressor.predict(x_test)"
   ]
  },
  {
   "cell_type": "code",
   "execution_count": 113,
   "id": "00a6754c-235b-4874-8582-04cc2f0cc95f",
   "metadata": {},
   "outputs": [
    {
     "name": "stdout",
     "output_type": "stream",
     "text": [
      "      Open Price  High Price  Low Price          WAP  Total Turnover (Rs.)\n",
      "9         285.00      286.75     280.60   282.752620             263677846\n",
      "342       381.00      394.00     380.50   387.922620             286189913\n",
      "567       714.00      717.90     707.10   710.908515             153830650\n",
      "1447     1187.00     1246.25    1176.60  1215.986040            2635460047\n",
      "1263      417.05      421.65     408.95   413.487145             311535687\n",
      "...          ...         ...        ...          ...                   ...\n",
      "1357      629.50      635.35     626.60   631.207304             231127285\n",
      "482       501.90      506.70     499.80   503.867918             275551256\n",
      "1261      413.50      427.50     412.50   421.135923             389877109\n",
      "474       492.25      499.90     487.50   493.468751             238436205\n",
      "1459     1127.10     1143.80    1097.55  1124.118520             990357409\n",
      "\n",
      "[372 rows x 5 columns]\n"
     ]
    }
   ],
   "source": [
    "print(x_test)"
   ]
  },
  {
   "cell_type": "code",
   "execution_count": 114,
   "id": "35a4dc79-1863-46ec-a1f6-2bd9a7d3469d",
   "metadata": {},
   "outputs": [
    {
     "data": {
      "text/plain": [
       "(372,)"
      ]
     },
     "execution_count": 114,
     "metadata": {},
     "output_type": "execute_result"
    }
   ],
   "source": [
    "predicted.shape"
   ]
  },
  {
   "cell_type": "code",
   "execution_count": 115,
   "id": "eb8664ec-cf79-46ca-b3d9-c0c2a04f8dc3",
   "metadata": {},
   "outputs": [],
   "source": [
    "dframe=pd.DataFrame(y_test, predicted)"
   ]
  },
  {
   "cell_type": "code",
   "execution_count": 116,
   "id": "fad82dba-68e6-4bbb-bdf5-444d582c1f1e",
   "metadata": {},
   "outputs": [],
   "source": [
    "dfr=pd.DataFrame({'Actual Price': y_test, 'Predicted Price': predicted})"
   ]
  },
  {
   "cell_type": "code",
   "execution_count": 117,
   "id": "08933bdf-6182-4bdc-acb3-d4a24236f6b2",
   "metadata": {},
   "outputs": [
    {
     "name": "stdout",
     "output_type": "stream",
     "text": [
      "      Actual Price  Predicted Price\n",
      "9           281.50       281.927085\n",
      "342         392.35       390.130565\n",
      "567         709.35       709.556266\n",
      "1447       1233.90      1229.144123\n",
      "1263        413.25       412.776802\n",
      "...            ...              ...\n",
      "1357        632.80       630.904697\n",
      "482         502.65       503.613360\n",
      "1261        416.45       423.514867\n",
      "474         491.20       493.590539\n",
      "1459       1103.75      1121.803059\n",
      "\n",
      "[372 rows x 2 columns]\n"
     ]
    }
   ],
   "source": [
    "print(dfr)"
   ]
  },
  {
   "cell_type": "code",
   "execution_count": 118,
   "id": "02c3dd28-f851-4901-8a0a-f2ba9c307d5e",
   "metadata": {},
   "outputs": [
    {
     "data": {
      "text/html": [
       "<div>\n",
       "<style scoped>\n",
       "    .dataframe tbody tr th:only-of-type {\n",
       "        vertical-align: middle;\n",
       "    }\n",
       "\n",
       "    .dataframe tbody tr th {\n",
       "        vertical-align: top;\n",
       "    }\n",
       "\n",
       "    .dataframe thead th {\n",
       "        text-align: right;\n",
       "    }\n",
       "</style>\n",
       "<table border=\"1\" class=\"dataframe\">\n",
       "  <thead>\n",
       "    <tr style=\"text-align: right;\">\n",
       "      <th></th>\n",
       "      <th>Actual Price</th>\n",
       "      <th>Predicted Price</th>\n",
       "    </tr>\n",
       "  </thead>\n",
       "  <tbody>\n",
       "    <tr>\n",
       "      <th>9</th>\n",
       "      <td>281.50</td>\n",
       "      <td>281.927085</td>\n",
       "    </tr>\n",
       "    <tr>\n",
       "      <th>342</th>\n",
       "      <td>392.35</td>\n",
       "      <td>390.130565</td>\n",
       "    </tr>\n",
       "    <tr>\n",
       "      <th>567</th>\n",
       "      <td>709.35</td>\n",
       "      <td>709.556266</td>\n",
       "    </tr>\n",
       "    <tr>\n",
       "      <th>1447</th>\n",
       "      <td>1233.90</td>\n",
       "      <td>1229.144123</td>\n",
       "    </tr>\n",
       "    <tr>\n",
       "      <th>1263</th>\n",
       "      <td>413.25</td>\n",
       "      <td>412.776802</td>\n",
       "    </tr>\n",
       "    <tr>\n",
       "      <th>553</th>\n",
       "      <td>648.35</td>\n",
       "      <td>646.146915</td>\n",
       "    </tr>\n",
       "    <tr>\n",
       "      <th>54</th>\n",
       "      <td>228.55</td>\n",
       "      <td>230.793345</td>\n",
       "    </tr>\n",
       "    <tr>\n",
       "      <th>1139</th>\n",
       "      <td>444.25</td>\n",
       "      <td>452.292091</td>\n",
       "    </tr>\n",
       "    <tr>\n",
       "      <th>610</th>\n",
       "      <td>710.30</td>\n",
       "      <td>707.587736</td>\n",
       "    </tr>\n",
       "    <tr>\n",
       "      <th>704</th>\n",
       "      <td>602.45</td>\n",
       "      <td>605.393917</td>\n",
       "    </tr>\n",
       "    <tr>\n",
       "      <th>1358</th>\n",
       "      <td>631.85</td>\n",
       "      <td>626.351968</td>\n",
       "    </tr>\n",
       "    <tr>\n",
       "      <th>721</th>\n",
       "      <td>560.35</td>\n",
       "      <td>565.242929</td>\n",
       "    </tr>\n",
       "    <tr>\n",
       "      <th>1013</th>\n",
       "      <td>381.80</td>\n",
       "      <td>383.404608</td>\n",
       "    </tr>\n",
       "    <tr>\n",
       "      <th>823</th>\n",
       "      <td>552.40</td>\n",
       "      <td>538.937935</td>\n",
       "    </tr>\n",
       "    <tr>\n",
       "      <th>1249</th>\n",
       "      <td>346.05</td>\n",
       "      <td>344.559636</td>\n",
       "    </tr>\n",
       "    <tr>\n",
       "      <th>1444</th>\n",
       "      <td>1100.55</td>\n",
       "      <td>1114.442709</td>\n",
       "    </tr>\n",
       "    <tr>\n",
       "      <th>443</th>\n",
       "      <td>454.00</td>\n",
       "      <td>450.066736</td>\n",
       "    </tr>\n",
       "    <tr>\n",
       "      <th>152</th>\n",
       "      <td>217.85</td>\n",
       "      <td>215.160049</td>\n",
       "    </tr>\n",
       "    <tr>\n",
       "      <th>667</th>\n",
       "      <td>620.45</td>\n",
       "      <td>622.862285</td>\n",
       "    </tr>\n",
       "    <tr>\n",
       "      <th>1102</th>\n",
       "      <td>461.20</td>\n",
       "      <td>459.459929</td>\n",
       "    </tr>\n",
       "  </tbody>\n",
       "</table>\n",
       "</div>"
      ],
      "text/plain": [
       "      Actual Price  Predicted Price\n",
       "9           281.50       281.927085\n",
       "342         392.35       390.130565\n",
       "567         709.35       709.556266\n",
       "1447       1233.90      1229.144123\n",
       "1263        413.25       412.776802\n",
       "553         648.35       646.146915\n",
       "54          228.55       230.793345\n",
       "1139        444.25       452.292091\n",
       "610         710.30       707.587736\n",
       "704         602.45       605.393917\n",
       "1358        631.85       626.351968\n",
       "721         560.35       565.242929\n",
       "1013        381.80       383.404608\n",
       "823         552.40       538.937935\n",
       "1249        346.05       344.559636\n",
       "1444       1100.55      1114.442709\n",
       "443         454.00       450.066736\n",
       "152         217.85       215.160049\n",
       "667         620.45       622.862285\n",
       "1102        461.20       459.459929"
      ]
     },
     "execution_count": 118,
     "metadata": {},
     "output_type": "execute_result"
    }
   ],
   "source": [
    "dfr.head(20)"
   ]
  },
  {
   "cell_type": "code",
   "execution_count": 119,
   "id": "181a95a5-c790-4db3-96df-014b3d57cf0b",
   "metadata": {},
   "outputs": [],
   "source": [
    "from sklearn.metrics import confusion_matrix, accuracy_score"
   ]
  },
  {
   "cell_type": "code",
   "execution_count": 120,
   "id": "c27409da-7fb7-4b01-a92c-023a8b305d41",
   "metadata": {},
   "outputs": [
    {
     "data": {
      "text/plain": [
       "0.9995981228177993"
      ]
     },
     "execution_count": 120,
     "metadata": {},
     "output_type": "execute_result"
    }
   ],
   "source": [
    "regressor.score(x_test, y_test)"
   ]
  },
  {
   "cell_type": "code",
   "execution_count": 121,
   "id": "e6117c80-9cab-4e62-81c7-ae47c503e1a6",
   "metadata": {},
   "outputs": [],
   "source": [
    "import math"
   ]
  },
  {
   "cell_type": "code",
   "execution_count": 122,
   "id": "b700a5c8-4129-4bac-84f0-64f04217a957",
   "metadata": {},
   "outputs": [
    {
     "name": "stdout",
     "output_type": "stream",
     "text": [
      "Mean Absolute Error: 2.559859381657873\n"
     ]
    }
   ],
   "source": [
    "print('Mean Absolute Error:', metrics.mean_absolute_error(y_test, predicted))"
   ]
  },
  {
   "cell_type": "code",
   "execution_count": 123,
   "id": "4b6addab-536e-4f4a-ac94-161ebbb4faad",
   "metadata": {},
   "outputs": [
    {
     "name": "stdout",
     "output_type": "stream",
     "text": [
      "Mean Absolute Error: 13.131093078574064\n"
     ]
    }
   ],
   "source": [
    "print('Mean Absolute Error:', metrics.mean_squared_error(y_test, predicted))"
   ]
  },
  {
   "cell_type": "code",
   "execution_count": 124,
   "id": "425c0066-dc93-4700-be52-7ef68cb00d8b",
   "metadata": {},
   "outputs": [
    {
     "name": "stdout",
     "output_type": "stream",
     "text": [
      "root mean squared error: 3.623685013708292\n"
     ]
    }
   ],
   "source": [
    "print('root mean squared error:', math.sqrt(metrics.mean_squared_error(y_test, predicted)))"
   ]
  },
  {
   "cell_type": "code",
   "execution_count": 125,
   "id": "ae7acc86-00aa-49bd-9e39-fb5ec3159ca0",
   "metadata": {},
   "outputs": [],
   "source": [
    "graph=dfr.head(20)"
   ]
  },
  {
   "cell_type": "code",
   "execution_count": 126,
   "id": "5be6a9c8-c404-4d71-8e13-c44f478efdc6",
   "metadata": {},
   "outputs": [
    {
     "data": {
      "text/plain": [
       "<Axes: >"
      ]
     },
     "execution_count": 126,
     "metadata": {},
     "output_type": "execute_result"
    },
    {
     "data": {
      "image/png": "[encoded data removed]",
      "text/plain": [
       "<Figure size 640x480 with 1 Axes>"
      ]
     },
     "metadata": {},
     "output_type": "display_data"
    }
   ],
   "source": [
    "graph.plot(kind='bar')"
   ]
  },
  {
   "cell_type": "code",
   "execution_count": null,
   "id": "82e7a879-ac5a-46de-9a0a-4196d47763a7",
   "metadata": {},
   "outputs": [],
   "source": []
  },
  {
   "cell_type": "code",
   "execution_count": null,
   "id": "042ace3a-1a29-4074-8897-0d03ec9d4321",
   "metadata": {},
   "outputs": [],
   "source": []
  },
  {
   "cell_type": "code",
   "execution_count": null,
   "id": "b287c679-89d6-4a96-8aff-f0c8564a70a1",
   "metadata": {},
   "outputs": [],
   "source": []
  }
 ],
 "metadata": {
  "kernelspec": {
   "display_name": "Python 3 (ipykernel)",
   "language": "python",
   "name": "python3"
  },
  "language_info": {
   "codemirror_mode": {
    "name": "ipython",
    "version": 3
   },
   "file_extension": ".py",
   "mimetype": "text/x-python",
   "name": "python",
   "nbconvert_exporter": "python",
   "pygments_lexer": "ipython3",
   "version": "3.11.5"
  }
 },
 "nbformat": 4,
 "nbformat_minor": 5
}
